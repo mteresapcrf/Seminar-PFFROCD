{
 "cells": [
  {
   "cell_type": "markdown",
   "id": "e55bca6d-cb6b-4ec1-bbad-9448b147967c",
   "metadata": {},
   "source": [
    "In this notebook different quantisation methods and distance metrics for Facial Recognition will be compared both on accuracy and execution time. \n",
    "\n",
    "The Quantisation methods include:\n",
    "- Scalar Quantisation\n",
    "- TensorFlow Quantisation\n",
    "\n",
    "The distance metrics include:\n",
    "- Cosine Similarity\n",
    "- Euclidean Distance"
   ]
  },
  {
   "cell_type": "markdown",
   "id": "a699d2ca-b77e-4f7d-8ff3-d0cedef542fd",
   "metadata": {},
   "source": [
    "Below are the necassary import to run the code."
   ]
  },
  {
   "cell_type": "code",
   "execution_count": null,
   "id": "37ab3d98-13d1-46ec-b5d4-fda1f58c7092",
   "metadata": {
    "vscode": {
     "languageId": "python"
    }
   },
   "outputs": [],
   "source": [
    "import os\n",
    "os.environ['TF_CPP_MIN_LOG_LEVEL'] = '3' # suppress tensorflow warnings https://stackoverflow.com/a/40871012\n",
    "from deepface import DeepFace\n",
    "import subprocess\n",
    "import numpy as np\n",
    "from decimal import Decimal # for proper rounding\n",
    "import random\n",
    "import time\n",
    "import pandas as pd\n",
    "from datetime import datetime\n",
    "import struct\n",
    "import tensorflow as tf\n",
    "import matplotlib.pyplot as plt\n",
    "import seaborn as sns\n",
    "import sys\n",
    "import statistics\n",
    "import accuracy as ac\n",
    "import pickle\n",
    "import quantisations as qt\n",
    "import basics as bs\n",
    "\n",
    "\n",
    "# CONSTANTS\n",
    "EXECUTABLE_PATH = \"ABY/build/bin\"\n",
    "INPUT_FILE_NAME = \"input_vecs.txt\"\n",
    "EXECUTABLE_NAME_SCENARIO = 'cos_dist_copy'\n",
    "CMD_SCENARIO = f\"./{EXECUTABLE_NAME_SCENARIO} -r 1 -f {INPUT_FILE_NAME} & (./{EXECUTABLE_NAME_SCENARIO} -r 0 -f {INPUT_FILE_NAME} 2>&1 > /dev/null)\"\n",
    "\n",
    "# random number generator\n",
    "rng = np.random.default_rng()"
   ]
  },
  {
   "cell_type": "markdown",
   "id": "316b1680-eeee-43a6-9a23-98021e2251ec",
   "metadata": {},
   "source": [
    "Below are two functions to compare Facenet and Sface accuracy. One for Euclidean Distance and one for Cosine Similarity. The code to create a visual representation for this comparison is also included."
   ]
  },
  {
   "cell_type": "code",
   "execution_count": null,
   "id": "956e56f4-0543-436e-a677-2edc2bd4c78a",
   "metadata": {
    "scrolled": true,
    "vscode": {
     "languageId": "python"
    }
   },
   "outputs": [],
   "source": [
    "### GENERATING THE GLOBAL PAIRS. \n",
    "### we only need to run this once and then we can have the file and use pairs as the list of embeddings \n",
    "### uncomment to use for first them, then use the next cell!\n",
    "\n",
    "#\n",
    "# Generate pairs globally\n",
    "def generate_pairs(m):\n",
    "    pairs = []\n",
    "    for _ in range(m):\n",
    "        print(_)\n",
    "        n = random.choice([True, False])\n",
    "        imga, imgb = bs.get_two_random_images(same_person=n)\n",
    "        pairs.append((imga, imgb,n))\n",
    "    return pairs\n",
    "\n",
    "m = 1000\n",
    "pairs = generate_pairs(m)\n",
    "\n",
    "# File path\n",
    "file_path = 'embedingpairs.pkl'\n",
    "\n",
    "# Delete the file if it exists\n",
    "if os.path.exists(file_path):\n",
    "    os.remove(file_path)\n",
    "\n",
    "# Save pairs to a new file\n",
    "with open(file_path, 'wb') as file:\n",
    "    pickle.dump(pairs, file)"
   ]
  },
  {
   "cell_type": "code",
   "execution_count": null,
   "id": "a73af373-c771-4617-a869-09209e148aeb",
   "metadata": {
    "vscode": {
     "languageId": "python"
    }
   },
   "outputs": [],
   "source": [
    "with open(file_path, 'rb') as file:\n",
    "    pairs = pickle.load(file)"
   ]
  },
  {
   "cell_type": "code",
   "execution_count": null,
   "id": "8ae9dd79-9cb6-4b62-858d-cac9108b9d8d",
   "metadata": {
    "vscode": {
     "languageId": "python"
    }
   },
   "outputs": [],
   "source": [
    "def extract_results(counters):\n",
    "    methods = []\n",
    "    correct_sface_euc = []\n",
    "    incorrect_sface_euc = []\n",
    "    correct_sface_cos = []\n",
    "    incorrect_sface_cos = []\n",
    "    correct_facenet_euc = []\n",
    "    incorrect_facenet_euc = []\n",
    "    correct_facenet_cos = []\n",
    "    incorrect_facenet_cos = []\n",
    "\n",
    "    for method, counts in counters.items():\n",
    "        methods.append(method)\n",
    "        correct_sface_euc.append(counts['correct_tensor_sface'])\n",
    "        incorrect_sface_euc.append(counts['wrong_tensor_sface'])\n",
    "        correct_sface_cos.append(counts['correct_scalar_sface'])\n",
    "        incorrect_sface_cos.append(counts['wrong_scalar_sface'])\n",
    "        correct_facenet_euc.append(counts['correct_tensor_facenet'])\n",
    "        incorrect_facenet_euc.append(counts['wrong_tensor_facenet'])\n",
    "        correct_facenet_cos.append(counts['correct_scalar_facenet'])\n",
    "        incorrect_facenet_cos.append(counts['wrong_scalar_facenet'])\n",
    "    \n",
    "    return (methods, correct_sface_euc, incorrect_sface_euc, correct_sface_cos, incorrect_sface_cos, correct_facenet_euc, incorrect_facenet_euc, correct_facenet_cos, incorrect_facenet_cos)\n",
    "\n",
    "def visualize_results(methods, correct_sface_euc, incorrect_sface_euc, correct_sface_cos, incorrect_sface_cos, correct_facenet_euc, incorrect_facenet_euc, correct_facenet_cos, incorrect_facenet_cos):\n",
    "    n_methods = len(methods)\n",
    "    ind = np.arange(n_methods)\n",
    "    width = 0.1       \n",
    "\n",
    "    fig, ax = plt.subplots(figsize=(20, 12))\n",
    "\n",
    "    bar1 = ax.bar(ind - width * 3.5, correct_sface_euc, width, label='Correct Euclidean (SFace)', color='skyblue')\n",
    "    bar2 = ax.bar(ind - width * 2.5, incorrect_sface_euc, width, label='Incorrect Euclidean (SFace)', color='palevioletred')\n",
    "    bar3 = ax.bar(ind - width * 1.5, correct_sface_cos, width, label='Correct Cosine (SFace)', color='orange')\n",
    "    bar4 = ax.bar(ind - width * 0.5, incorrect_sface_cos, width, label='Incorrect Cosine (SFace)', color='purple')\n",
    "    bar5 = ax.bar(ind + width * 0.5, correct_facenet_euc, width, label='Correct Euclidean (Facenet)', color='lightgreen')\n",
    "    bar6 = ax.bar(ind + width * 1.5, incorrect_facenet_euc, width, label='Incorrect Euclidean (Facenet)', color='blueviolet')\n",
    "    bar7 = ax.bar(ind + width * 2.5, correct_facenet_cos, width, label='Correct Cosine (Facenet)', color='lightcoral')\n",
    "    bar8 = ax.bar(ind + width * 3.5, incorrect_facenet_cos, width, label='Incorrect Cosine (Facenet)', color='gold')\n",
    "\n",
    "    for bars in [bar1, bar2, bar3, bar4, bar5, bar6, bar7, bar8]:\n",
    "        for i, bar in enumerate(bars):\n",
    "            ax.text(bar.get_x() + bar.get_width() / 2, bar.get_height() + 0.5, str(int(bar.get_height())), ha='center', va='bottom')\n",
    "\n",
    "    ax.set_xlabel('Quantisation Methods')\n",
    "    ax.set_ylabel('Values')\n",
    "    ax.set_title('Accuracy Comparison of Different Quantisation Methods using SFace and Facenet (Euclidean Distance and Cosine Similarity)')\n",
    "    ax.set_xticks(ind)\n",
    "    ax.set_xticklabels(methods, rotation=45, ha='right')\n",
    "    ax.legend(loc='upper right', bbox_to_anchor=(1.4, 1))\n",
    "\n",
    "    plt.show()"
   ]
  },
  {
   "cell_type": "code",
   "execution_count": null,
   "id": "2f730dee",
   "metadata": {
    "vscode": {
     "languageId": "python"
    }
   },
   "outputs": [],
   "source": [
    "# Running the comparison functions\n",
    "counters_euc,times_euc = ac.compare_accuracies_euc(pairs)\n",
    "counters_cos,times_cos = ac.compare_accuracies_cos(pairs)"
   ]
  },
  {
   "cell_type": "code",
   "execution_count": null,
   "id": "718f1efc-522e-45ca-93e1-8927ec0fddbb",
   "metadata": {},
   "outputs": [],
   "source": [
    "(methods, correct_sface_euc, incorrect_sface_euc, correct_sface_cos, incorrect_sface_cos, correct_facenet_euc, incorrect_facenet_euc, correct_facenet_cos, incorrect_facenet_cos) = extract_results(counters_euc)\n",
    "\n",
    "\n",
    "\n"
   ]
  },
  {
   "cell_type": "code",
   "execution_count": null,
   "id": "843111f4-a7de-46de-b15f-203c0451b2d4",
   "metadata": {},
   "outputs": [],
   "source": [
    "(methods, correct_sface_euc, incorrect_sface_euc, correct_sface_cos, incorrect_sface_cos, correct_facenet_euc, incorrect_facenet_euc, correct_facenet_cos, incorrect_facenet_cos)"
   ]
  },
  {
   "cell_type": "code",
   "execution_count": null,
   "id": "aa4cf0c1-6bfb-43df-89ad-89013e5675ab",
   "metadata": {},
   "outputs": [],
   "source": [
    "# Visualize the results\n",
    "visualize_results(methods, correct_sface_euc, incorrect_sface_euc, correct_sface_cos, incorrect_sface_cos, correct_facenet_euc, incorrect_facenet_euc, correct_facenet_cos, incorrect_facenet_cos)"
   ]
  },
  {
   "cell_type": "markdown",
   "id": "27dfd6b5-7d11-4b2c-8075-05fbbea36e7e",
   "metadata": {},
   "source": [
    "below will be the functions to compare the execution time of (Facenet, SFace) x (Euclidean, Cosine) X (no quantisation, Tensorflow, scalar)"
   ]
  },
  {
   "cell_type": "code",
   "execution_count": null,
   "id": "ed1a2410-8b89-4cbd-bc4d-4e94810c69fe",
   "metadata": {
    "vscode": {
     "languageId": "python"
    }
   },
   "outputs": [],
   "source": [
    "# Calculate and print the average execution times\n",
    "print(\"Average Execution Times (in seconds):\")\n",
    "for name in times_euc.keys():\n",
    "    avg_tensor_time_euc = times_euc[name]['tensor_time'] / m  # Assuming m=1000\n",
    "    avg_scalar_time_euc = times_euc[name]['scalar_time'] / m\n",
    "    avg_noquant_time_euc = times_euc[name]['noquant_time'] / m\n",
    "    \n",
    "    avg_tensor_time_cos = times_cos[name]['tensor_time'] / m\n",
    "    avg_scalar_time_cos = times_cos[name]['scalar_time'] / m\n",
    "    avg_noquant_time_cos = times_cos[name]['noquant_time'] / m\n",
    "\n",
    "    print(f\"\\nQuantization Method: {name}\")\n",
    "    print(f\"  Total Tensor Time (Euclidean): {times_euc[name]['tensor_time']} seconds\")\n",
    "    print(f\"  Total Scalar Time (Euclidean): {times_euc[name]['scalar_time']} seconds\")\n",
    "    print(f\"  Total NoQuant Time (Euclidean): {times_euc[name]['noquant_time']} seconds\")\n",
    "    print(f\"  Average Tensor Time (Euclidean): {avg_tensor_time_euc:.6f} seconds\")\n",
    "    print(f\"  Average Scalar Time (Euclidean): {avg_scalar_time_euc:.6f} seconds\")\n",
    "    print(f\"  Average NoQuant Time (Euclidean): {avg_noquant_time_euc:.6f} seconds\")\n",
    "    \n",
    "    print(f\"  Total Tensor Time (Cosine): {times_cos[name]['tensor_time']} seconds\")\n",
    "    print(f\"  Total Scalar Time (Cosine): {times_cos[name]['scalar_time']} seconds\")\n",
    "    print(f\"  Total NoQuant Time (Cosine): {times_cos[name]['noquant_time']} seconds\")\n",
    "    print(f\"  Average Tensor Time (Cosine): {avg_tensor_time_cos:.6f} seconds\")\n",
    "    print(f\"  Average Scalar Time (Cosine): {avg_scalar_time_cos:.6f} seconds\")\n",
    "    print(f\"  Average NoQuant Time (Cosine): {avg_noquant_time_cos:.6f} seconds\")\n"
   ]
  },
  {
   "cell_type": "code",
   "execution_count": null,
   "id": "0d8733bc-6777-46d8-b324-a1d80ae378c2",
   "metadata": {},
   "outputs": [],
   "source": []
  },
  {
   "cell_type": "code",
   "execution_count": null,
   "id": "5b44530d-7939-4f92-88c5-31382344e841",
   "metadata": {},
   "outputs": [],
   "source": []
  }
 ],
 "metadata": {
  "kernelspec": {
   "display_name": "env",
   "language": "python",
   "name": "env"
  },
  "language_info": {
   "codemirror_mode": {
    "name": "ipython",
    "version": 3
   },
   "file_extension": ".py",
   "mimetype": "text/x-python",
   "name": "python",
   "nbconvert_exporter": "python",
   "pygments_lexer": "ipython3",
   "version": "3.12.3"
  }
 },
 "nbformat": 4,
 "nbformat_minor": 5
}
