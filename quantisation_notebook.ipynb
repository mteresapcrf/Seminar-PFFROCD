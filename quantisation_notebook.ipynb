{
 "cells": [
  {
   "cell_type": "markdown",
   "id": "e55bca6d-cb6b-4ec1-bbad-9448b147967c",
   "metadata": {},
   "source": [
    "In this notebook different quantisation methods and distance metrics for Facial Recognition will be compared both on accuracy and execution time. \n",
    "\n",
    "The Quantisation methods include:\n",
    "- Scalar Quantisation\n",
    "- TensorFlow Quantisation\n",
    "\n",
    "The distance metrics include:\n",
    "- Cosine Similarity\n",
    "- Euclidean Distance"
   ]
  },
  {
   "cell_type": "markdown",
   "id": "a699d2ca-b77e-4f7d-8ff3-d0cedef542fd",
   "metadata": {},
   "source": [
    "Below are the necassary import to run the code."
   ]
  },
  {
   "cell_type": "code",
   "execution_count": 1,
   "id": "37ab3d98-13d1-46ec-b5d4-fda1f58c7092",
   "metadata": {},
   "outputs": [],
   "source": [
    "import os\n",
    "os.environ['TF_CPP_MIN_LOG_LEVEL'] = '3' # suppress tensorflow warnings https://stackoverflow.com/a/40871012\n",
    "from deepface import DeepFace\n",
    "import subprocess\n",
    "import numpy as np\n",
    "from decimal import Decimal # for proper rounding\n",
    "import random\n",
    "import time\n",
    "import pandas as pd\n",
    "from datetime import datetime\n",
    "import struct\n",
    "import tensorflow as tf\n",
    "import matplotlib.pyplot as plt\n",
    "import seaborn as sns\n",
    "import sys\n",
    "import statistics\n",
    "import accuracy as ac\n",
    "import pickle\n",
    "import quantisations as qt\n",
    "\n",
    "\n",
    "import basics as bs\n",
    "\n",
    "\n",
    "# CONSTANTS\n",
    "EXECUTABLE_PATH = \"ABY/build/bin\"\n",
    "INPUT_FILE_NAME = \"input_vecs.txt\"\n",
    "EXECUTABLE_NAME_SCENARIO = 'cos_dist_copy'\n",
    "CMD_SCENARIO = f\"./{EXECUTABLE_NAME_SCENARIO} -r 1 -f {INPUT_FILE_NAME} & (./{EXECUTABLE_NAME_SCENARIO} -r 0 -f {INPUT_FILE_NAME} 2>&1 > /dev/null)\"\n",
    "\n",
    "# random number generator\n",
    "rng = np.random.default_rng()"
   ]
  },
  {
   "cell_type": "markdown",
   "id": "316b1680-eeee-43a6-9a23-98021e2251ec",
   "metadata": {},
   "source": [
    "Below are two functions to compare Facenet and Sface accuracy. One for Euclidean Distance and one for Cosine Similarity. The code to create a visual representation for this comparison is also included."
   ]
  },
  {
   "cell_type": "code",
   "execution_count": 2,
   "id": "956e56f4-0543-436e-a677-2edc2bd4c78a",
   "metadata": {
    "scrolled": true
   },
   "outputs": [],
   "source": [
    "###### GENERATING THE GLOBAL PAIRS. \n",
    "######## we only need to run this once and then we can have the file and use pairs as the list of embeddings \n",
    "########## uncomment to use for first them, then use the next cell!\n",
    "\n",
    "##########!!!!!!!!!!!!!!!!!!!!!!!!!!!!!!!!!!!!!!!!!!!!!!!!!!!!!!!!!!!!!!!!!!!!!!!!!!!!!!!!!!!!!!!!!!!!!!!!!!!!!!!!!!!!!!!!!!!!!!!!!!!!##########\n",
    "## IF U GENERATE A NEW FILE, CHANGE THE NAME!!!! THE EMBEDINGPAIRS.PKL IS THE WORKING ONE AND THE ONE USED!!!!!!!!!!!!!!!!!!!##########\n",
    "##########!!!!!!!!!!!!!!!!!!!!!!!!!!!!!!!!!!!!!!!!!!!!!!!!!!!!!!!!!!!!!!!!!!!!!!!!!!!!!!!!!!!!!!!!!!!!!!!!!!!!!!!!!!!!!!!!!!!!!!!!!!!!##########\n",
    "\n",
    "# #\n",
    "# # Generate pairs globally\n",
    "# def generate_pairs(m):\n",
    "#     pairs = []\n",
    "#     for _ in range(m):\n",
    "#         print(_)\n",
    "#         n = random.choice([True, False])\n",
    "#         imga, imgb = bs.get_two_random_images(same_person=n)\n",
    "#         pairs.append((imga, imgb,n))\n",
    "#     return pairs\n",
    "\n",
    "# m = 2000\n",
    "# pairs = generate_pairs(m)\n",
    "\n",
    "#File path\n",
    "file_path = 'embedingpairs.pkl'\n",
    "\n",
    "# # Delete the file if it exists\n",
    "# if os.path.exists(file_path):\n",
    "#     os.remove(file_path)\n",
    "\n",
    "# # Save pairs to a new file\n",
    "# with open(file_path, 'wb') as file:\n",
    "#     pickle.dump(pairs, file)"
   ]
  },
  {
   "cell_type": "code",
   "execution_count": 3,
   "id": "a73af373-c771-4617-a869-09209e148aeb",
   "metadata": {},
   "outputs": [],
   "source": [
    "with open(file_path, 'rb') as file:\n",
    "    pairs = pickle.load(file)"
   ]
  },
  {
   "cell_type": "code",
   "execution_count": 4,
   "id": "2f730dee",
   "metadata": {
    "scrolled": true
   },
   "outputs": [],
   "source": [
    "# Running the comparison functions\n",
    "\n",
    "counters_euc,times_euc = ac.compare_accuracies_euc(pairs)\n"
   ]
  },
  {
   "cell_type": "code",
   "execution_count": 5,
   "id": "0ed6f3a0-f691-4e4e-8582-8aab97932749",
   "metadata": {},
   "outputs": [],
   "source": [
    "counters_cos,times_cos = ac.compare_accuracies_cos(pairs)"
   ]
  },
  {
   "cell_type": "code",
   "execution_count": 6,
   "id": "c6352d83-5c03-41e7-86be-f0121d1f5c35",
   "metadata": {},
   "outputs": [
    {
     "data": {
      "text/plain": [
       "{'scalar_quantisation_max': {'correct_tensor_facenet': 555,\n",
       "  'wrong_tensor_facenet': 445,\n",
       "  'correct_scalar_facenet': 555,\n",
       "  'wrong_scalar_facenet': 445,\n",
       "  'correct_noquant_facenet': 768,\n",
       "  'wrong_noquant_facenet': 232,\n",
       "  'correct_tensor_sface': 555,\n",
       "  'wrong_tensor_sface': 445,\n",
       "  'correct_scalar_sface': 555,\n",
       "  'wrong_scalar_sface': 445,\n",
       "  'correct_noquant_sface': 841,\n",
       "  'wrong_noquant_sface': 159},\n",
       " 'scalar_quantisation_percentile': {'correct_tensor_facenet': 555,\n",
       "  'wrong_tensor_facenet': 445,\n",
       "  'correct_scalar_facenet': 555,\n",
       "  'wrong_scalar_facenet': 445,\n",
       "  'correct_noquant_facenet': 768,\n",
       "  'wrong_noquant_facenet': 232,\n",
       "  'correct_tensor_sface': 555,\n",
       "  'wrong_tensor_sface': 445,\n",
       "  'correct_scalar_sface': 555,\n",
       "  'wrong_scalar_sface': 445,\n",
       "  'correct_noquant_sface': 841,\n",
       "  'wrong_noquant_sface': 159}}"
      ]
     },
     "execution_count": 6,
     "metadata": {},
     "output_type": "execute_result"
    }
   ],
   "source": [
    "counters_euc"
   ]
  },
  {
   "cell_type": "code",
   "execution_count": 7,
   "id": "dfa68048-0750-4208-a80f-5d2e2ac05d54",
   "metadata": {},
   "outputs": [
    {
     "data": {
      "text/plain": [
       "{'scalar_quantisation_max': {'correct_tensor_facenet': 458,\n",
       "  'wrong_tensor_facenet': 542,\n",
       "  'correct_scalar_facenet': 838,\n",
       "  'wrong_scalar_facenet': 162,\n",
       "  'correct_noquant_facenet': 837,\n",
       "  'wrong_noquant_facenet': 163,\n",
       "  'correct_tensor_sface': 458,\n",
       "  'wrong_tensor_sface': 542,\n",
       "  'correct_scalar_sface': 839,\n",
       "  'wrong_scalar_sface': 161,\n",
       "  'correct_noquant_sface': 838,\n",
       "  'wrong_noquant_sface': 162},\n",
       " 'scalar_quantisation_percentile': {'correct_tensor_facenet': 458,\n",
       "  'wrong_tensor_facenet': 542,\n",
       "  'correct_scalar_facenet': 812,\n",
       "  'wrong_scalar_facenet': 188,\n",
       "  'correct_noquant_facenet': 837,\n",
       "  'wrong_noquant_facenet': 163,\n",
       "  'correct_tensor_sface': 458,\n",
       "  'wrong_tensor_sface': 542,\n",
       "  'correct_scalar_sface': 819,\n",
       "  'wrong_scalar_sface': 181,\n",
       "  'correct_noquant_sface': 838,\n",
       "  'wrong_noquant_sface': 162}}"
      ]
     },
     "execution_count": 7,
     "metadata": {},
     "output_type": "execute_result"
    }
   ],
   "source": [
    "counters_cos"
   ]
  },
  {
   "cell_type": "code",
   "execution_count": 8,
   "id": "a9d4d38d-42c2-41cf-8766-edd4f7016385",
   "metadata": {},
   "outputs": [
    {
     "name": "stdout",
     "output_type": "stream",
     "text": [
      "Average Execution Times (in seconds):\n",
      "\n",
      "Quantization Method: scalar_quantisation_max\n",
      "  Total Tensor Time (Euclidean): 1.951538324356079 seconds\n",
      "  Total Scalar Time (Euclidean): 0.20895147323608398 seconds\n",
      "  Average Tensor Time (Euclidean): 0.001952 seconds\n",
      "  Average Scalar Time (Euclidean): 0.000209 seconds\n",
      "  Total Tensor Time (Cosine): 0.9779741764068604 seconds\n",
      "  Total Scalar Time (Cosine): 0.1683039665222168 seconds\n",
      "  Average Tensor Time (Cosine): 0.000978 seconds\n",
      "  Average Scalar Time (Cosine): 0.000168 seconds\n",
      "\n",
      "Quantization Method: scalar_quantisation_percentile\n",
      "  Total Tensor Time (Euclidean): 1.951538324356079 seconds\n",
      "  Total Scalar Time (Euclidean): 1.1559088230133057 seconds\n",
      "  Average Tensor Time (Euclidean): 0.001952 seconds\n",
      "  Average Scalar Time (Euclidean): 0.001156 seconds\n",
      "  Total Tensor Time (Cosine): 0.9779741764068604 seconds\n",
      "  Total Scalar Time (Cosine): 1.080245018005371 seconds\n",
      "  Average Tensor Time (Cosine): 0.000978 seconds\n",
      "  Average Scalar Time (Cosine): 0.001080 seconds\n"
     ]
    }
   ],
   "source": [
    "m=1000\n",
    "# Calculate and print the average execution times\n",
    "print(\"Average Execution Times (in seconds):\")\n",
    "for name in times_euc.keys():\n",
    "    avg_tensor_time_euc = times_euc[name]['tensor_time'] / m  # Assuming m=1000\n",
    "    avg_scalar_time_euc = times_euc[name]['scalar_time'] / m\n",
    "    \n",
    "    avg_tensor_time_cos = times_cos[name]['tensor_time'] / m\n",
    "    avg_scalar_time_cos = times_cos[name]['scalar_time'] / m\n",
    "\n",
    "    print(f\"\\nQuantization Method: {name}\")\n",
    "    print(f\"  Total Tensor Time (Euclidean): {times_euc[name]['tensor_time']} seconds\")\n",
    "    print(f\"  Total Scalar Time (Euclidean): {times_euc[name]['scalar_time']} seconds\")\n",
    "    print(f\"  Average Tensor Time (Euclidean): {avg_tensor_time_euc:.6f} seconds\")\n",
    "    print(f\"  Average Scalar Time (Euclidean): {avg_scalar_time_euc:.6f} seconds\")\n",
    "    \n",
    "    print(f\"  Total Tensor Time (Cosine): {times_cos[name]['tensor_time']} seconds\")\n",
    "    print(f\"  Total Scalar Time (Cosine): {times_cos[name]['scalar_time']} seconds\")\n",
    "    print(f\"  Average Tensor Time (Cosine): {avg_tensor_time_cos:.6f} seconds\")\n",
    "    print(f\"  Average Scalar Time (Cosine): {avg_scalar_time_cos:.6f} seconds\")\n"
   ]
  },
  {
   "cell_type": "markdown",
   "id": "27dfd6b5-7d11-4b2c-8075-05fbbea36e7e",
   "metadata": {},
   "source": [
    "below will be the functions to compare the execution time of (Facenet, SFace) x (Euclidean, Cosine) X (no quantisation, Tensorflow, scalar)"
   ]
  },
  {
   "cell_type": "code",
   "execution_count": null,
   "id": "618bbe94-04f9-4dd8-b1ac-272e5cc70b55",
   "metadata": {},
   "outputs": [],
   "source": []
  }
 ],
 "metadata": {
  "kernelspec": {
   "display_name": "env",
   "language": "python",
   "name": "env"
  },
  "language_info": {
   "codemirror_mode": {
    "name": "ipython",
    "version": 3
   },
   "file_extension": ".py",
   "mimetype": "text/x-python",
   "name": "python",
   "nbconvert_exporter": "python",
   "pygments_lexer": "ipython3",
   "version": "3.12.3"
  }
 },
 "nbformat": 4,
 "nbformat_minor": 5
}
